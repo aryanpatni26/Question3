{
  "nbformat": 4,
  "nbformat_minor": 0,
  "metadata": {
    "colab": {
      "provenance": []
    },
    "kernelspec": {
      "name": "python3",
      "display_name": "Python 3"
    },
    "language_info": {
      "name": "python"
    }
  },
  "cells": [
    {
      "cell_type": "code",
      "execution_count": 1,
      "metadata": {
        "colab": {
          "base_uri": "https://localhost:8080/"
        },
        "id": "vnFQSsWH3pvF",
        "outputId": "e219020c-e429-4394-ab03-7eed57d6bfe7"
      },
      "outputs": [
        {
          "output_type": "stream",
          "name": "stdout",
          "text": [
            "     x    y  group\n",
            "0  0.1  0.1      0\n",
            "1  0.2  0.3      0\n",
            "2  0.4  0.4      0\n",
            "3  1.0  1.0      1\n",
            "4  1.2  1.1      1\n",
            "5  1.5  1.5      1\n"
          ]
        }
      ],
      "source": [
        "import pandas as pd\n",
        "import numpy as np\n",
        "from scipy.spatial import distance_matrix\n",
        "\n",
        "data = {'x': [0.1, 0.2, 0.4, 1.0, 1.2, 1.5],\n",
        "        'y': [0.1, 0.3, 0.4, 1.0, 1.1, 1.5]}\n",
        "df = pd.DataFrame(data)\n",
        "\n",
        "\n",
        "coords = df[['x', 'y']].values\n",
        "dist_matrix = distance_matrix(coords, coords)\n",
        "\n",
        "adj_matrix = dist_matrix <= 0.5\n",
        "\n",
        "\n",
        "from scipy.sparse.csgraph import connected_components\n",
        "from scipy.sparse import csr_matrix\n",
        "\n",
        "graph = csr_matrix(adj_matrix)\n",
        "n_components, labels = connected_components(csgraph=graph, directed=False)\n",
        "\n",
        "\n",
        "df['group'] = labels\n",
        "\n",
        "print(df)"
      ]
    }
  ]
}